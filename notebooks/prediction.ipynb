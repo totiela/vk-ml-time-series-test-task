{
  "nbformat": 4,
  "nbformat_minor": 0,
  "metadata": {
    "colab": {
      "provenance": [],
      "gpuType": "T4",
      "include_colab_link": true
    },
    "kernelspec": {
      "name": "python3",
      "display_name": "Python 3"
    },
    "language_info": {
      "name": "python"
    },
    "accelerator": "GPU"
  },
  "cells": [
    {
      "cell_type": "markdown",
      "metadata": {
        "id": "view-in-github",
        "colab_type": "text"
      },
      "source": [
        "<a href=\"https://colab.research.google.com/github/totiela/vk-ml-time-series-test-task/blob/main/notebooks/prediction.ipynb\" target=\"_parent\"><img src=\"https://colab.research.google.com/assets/colab-badge.svg\" alt=\"Open In Colab\"/></a>"
      ]
    },
    {
      "cell_type": "markdown",
      "source": [
        "# Импорт библиотек и загрузка данных"
      ],
      "metadata": {
        "id": "E1LjW10WgBvS"
      }
    },
    {
      "cell_type": "markdown",
      "source": [
        "Для получения идентичных предсказаний, необходимо запускать ноутбук на ***видеокарте***."
      ],
      "metadata": {
        "id": "LO8ptIBhkx05"
      }
    },
    {
      "cell_type": "code",
      "source": [
        "# Установка необходимых библиотек\n",
        "!pip install -q catboost"
      ],
      "metadata": {
        "id": "-e5OIwfIgASa",
        "colab": {
          "base_uri": "https://localhost:8080/"
        },
        "outputId": "1b16cc9a-b650-4d6a-f728-3ca95cb62c0a"
      },
      "execution_count": 1,
      "outputs": [
        {
          "output_type": "stream",
          "name": "stdout",
          "text": [
            "\u001b[2K   \u001b[90m━━━━━━━━━━━━━━━━━━━━━━━━━━━━━━━━━━━━━━━━\u001b[0m \u001b[32m98.7/98.7 MB\u001b[0m \u001b[31m9.0 MB/s\u001b[0m eta \u001b[36m0:00:00\u001b[0m\n",
            "\u001b[?25h"
          ]
        }
      ]
    },
    {
      "cell_type": "code",
      "source": [
        "# Импорт необходимых библиотек\n",
        "import pandas as pd\n",
        "import numpy as np\n",
        "import joblib\n",
        "import os\n",
        "from catboost import Pool, CatBoostClassifier\n",
        "from xgboost import XGBClassifier\n",
        "import warnings\n",
        "\n",
        "# Отключение всех предупреждений\n",
        "warnings.filterwarnings('ignore')"
      ],
      "metadata": {
        "id": "kjHQpaFpcNrN"
      },
      "execution_count": 9,
      "outputs": []
    },
    {
      "cell_type": "code",
      "source": [
        "# Клонируем репозитоиий\n",
        "!git clone https://github.com/totiela/vk-ml-time-series-test-task.git\n",
        "%cd vk-ml-time-series-test-task"
      ],
      "metadata": {
        "colab": {
          "base_uri": "https://localhost:8080/"
        },
        "id": "QXmnhiogcNtu",
        "outputId": "7aedd01e-1ab6-42dc-8074-72337c520eee"
      },
      "execution_count": 10,
      "outputs": [
        {
          "output_type": "stream",
          "name": "stdout",
          "text": [
            "Cloning into 'vk-ml-time-series-test-task'...\n",
            "remote: Enumerating objects: 117, done.\u001b[K\n",
            "remote: Counting objects: 100% (117/117), done.\u001b[K\n",
            "remote: Compressing objects: 100% (103/103), done.\u001b[K\n",
            "remote: Total 117 (delta 17), reused 0 (delta 0), pack-reused 0 (from 0)\u001b[K\n",
            "Receiving objects: 100% (117/117), 47.79 MiB | 9.45 MiB/s, done.\n",
            "Resolving deltas: 100% (17/17), done.\n",
            "/content/vk-ml-time-series-test-task/vk-ml-time-series-test-task\n"
          ]
        }
      ]
    },
    {
      "cell_type": "code",
      "source": [
        "# Функция для проверки существования файла\n",
        "def check_file_exists(filepath):\n",
        "    if not os.path.exists(filepath):\n",
        "        raise FileNotFoundError(f\"Файл не найден: {filepath}\")\n",
        "\n",
        "# Пути к данным и моделям\n",
        "test_data_path = 'data/raw/test.parquet'\n",
        "test_116_features_path = 'data/processed/test/test_116_features.parquet'\n",
        "test_141_features_path = 'data/processed/test/test_141_features.parquet'\n",
        "\n",
        "cb_tuned_116_path = 'models/cb_tuned_116.pkl'\n",
        "xgb_tuned_116_path = 'models/xgb_tuned_116.pkl'\n",
        "cb_no_tuned_141_path = 'models/cb_no_tuned_141.pkl'\n",
        "xgb_no_tuned_141_path = 'models/xgb_no_tuned_141.pkl'\n",
        "\n",
        "# Проверка файлов и загрузка данных\n",
        "check_file_exists(test_data_path)\n",
        "test_df = pd.read_parquet(test_data_path)\n",
        "\n",
        "check_file_exists(test_116_features_path)\n",
        "test_116_features = pd.read_parquet(test_116_features_path)\n",
        "\n",
        "check_file_exists(test_141_features_path)\n",
        "test_141_features = pd.read_parquet(test_141_features_path)\n",
        "\n",
        "# Проверка моделей и их загрузка\n",
        "check_file_exists(cb_tuned_116_path)\n",
        "cb_tuned_116 = joblib.load(cb_tuned_116_path)\n",
        "\n",
        "check_file_exists(xgb_tuned_116_path)\n",
        "xgb_tuned_116 = joblib.load(xgb_tuned_116_path)\n",
        "\n",
        "check_file_exists(cb_no_tuned_141_path)\n",
        "cb_no_tuned_141 = joblib.load(cb_no_tuned_141_path)\n",
        "\n",
        "check_file_exists(xgb_no_tuned_141_path)\n",
        "xgb_no_tuned_141 = joblib.load(xgb_no_tuned_141_path)\n",
        "\n",
        "print(\"Данные и модели успешно загружены.\")"
      ],
      "metadata": {
        "colab": {
          "base_uri": "https://localhost:8080/"
        },
        "id": "wc4d_cMqh9E1",
        "outputId": "c596c7c6-a464-44bd-a758-8717bbb99d39"
      },
      "execution_count": 11,
      "outputs": [
        {
          "output_type": "stream",
          "name": "stdout",
          "text": [
            "Данные и модели успешно загружены.\n"
          ]
        }
      ]
    },
    {
      "cell_type": "markdown",
      "source": [
        "# Получение предсказаний"
      ],
      "metadata": {
        "id": "Nxo98cD1ivSv"
      }
    },
    {
      "cell_type": "code",
      "source": [
        "# Функция для предстказаний\n",
        "def blended_predict(X_116, X_141):\n",
        "    \"\"\"\n",
        "    Получает вероятностные предсказания от четырех моделей и возвращает взвешенное блендированное предсказание.\n",
        "\n",
        "    Параметры:\n",
        "    - X_116 (pd.DataFrame): Набор признаков для моделей, обученных на 116 признаках.\n",
        "    - X_141 (pd.DataFrame): Набор признаков для моделей, обученных на 141 признаке.\n",
        "\n",
        "    Возвращает:\n",
        "    - blended_pred (np.ndarray): Взвешенные вероятности для класса 1 после блендирования всех четырех моделей.\n",
        "    \"\"\"\n",
        "\n",
        "    # Получение предсказаний вероятностей от модели CatBoost, настроенной для 116 признаков\n",
        "    cb_tuned_116_pred = cb_tuned_116.predict_proba(X_116)[:, 1]\n",
        "\n",
        "    # Получение предсказаний вероятностей от модели XGBoost, настроенной для 116 признаков\n",
        "    xgb_tuned_116_pred = xgb_tuned_116.predict_proba(X_116)[:, 1]\n",
        "\n",
        "    # Получение предсказаний вероятностей от модели CatBoost без настройки для 141 признака\n",
        "    cb_no_tuned_141_pred = cb_no_tuned_141.predict_proba(X_141)[:, 1]\n",
        "\n",
        "    # Получение предсказаний вероятностей от модели XGBoost без настройки для 141 признака\n",
        "    xgb_no_tuned_141_pred = xgb_no_tuned_141.predict_proba(X_141)[:, 1]\n",
        "\n",
        "    # Взвешенное блендирование предсказаний от всех четырех моделей\n",
        "    blended_pred = (\n",
        "        0.3 * cb_tuned_116_pred +\n",
        "        0.3 * xgb_tuned_116_pred +\n",
        "        0.3 * cb_no_tuned_141_pred +\n",
        "        0.1 * xgb_no_tuned_141_pred\n",
        "    )\n",
        "\n",
        "    # Возврат итогового блендированного предсказания\n",
        "    return blended_pred"
      ],
      "metadata": {
        "id": "F-xO0GEDcNwL"
      },
      "execution_count": 12,
      "outputs": []
    },
    {
      "cell_type": "code",
      "source": [
        "# Вызов функции и получение предсказаний\n",
        "predictions = blended_predict(test_116_features, test_141_features)"
      ],
      "metadata": {
        "id": "U2fGNvRIeejR"
      },
      "execution_count": 13,
      "outputs": []
    },
    {
      "cell_type": "code",
      "source": [
        "# Сохранение полученных предсказаний\n",
        "from google.colab import files\n",
        "\n",
        "submission_df = pd.DataFrame(\n",
        "    {\n",
        "        'id': test_df['id'],\n",
        "        'score': predictions\n",
        "    }\n",
        ")\n",
        "\n",
        "# Сохранение DataFrame в CSV файл\n",
        "submission_df.to_csv('submission.csv', index=False)\n",
        "# Скачивание файла\n",
        "files.download('submission.csv')"
      ],
      "metadata": {
        "id": "CnJYgRhUek_B",
        "colab": {
          "base_uri": "https://localhost:8080/",
          "height": 17
        },
        "outputId": "fcbb401c-4c58-45de-a179-0627b1ec4659"
      },
      "execution_count": 14,
      "outputs": [
        {
          "output_type": "display_data",
          "data": {
            "text/plain": [
              "<IPython.core.display.Javascript object>"
            ],
            "application/javascript": [
              "\n",
              "    async function download(id, filename, size) {\n",
              "      if (!google.colab.kernel.accessAllowed) {\n",
              "        return;\n",
              "      }\n",
              "      const div = document.createElement('div');\n",
              "      const label = document.createElement('label');\n",
              "      label.textContent = `Downloading \"${filename}\": `;\n",
              "      div.appendChild(label);\n",
              "      const progress = document.createElement('progress');\n",
              "      progress.max = size;\n",
              "      div.appendChild(progress);\n",
              "      document.body.appendChild(div);\n",
              "\n",
              "      const buffers = [];\n",
              "      let downloaded = 0;\n",
              "\n",
              "      const channel = await google.colab.kernel.comms.open(id);\n",
              "      // Send a message to notify the kernel that we're ready.\n",
              "      channel.send({})\n",
              "\n",
              "      for await (const message of channel.messages) {\n",
              "        // Send a message to notify the kernel that we're ready.\n",
              "        channel.send({})\n",
              "        if (message.buffers) {\n",
              "          for (const buffer of message.buffers) {\n",
              "            buffers.push(buffer);\n",
              "            downloaded += buffer.byteLength;\n",
              "            progress.value = downloaded;\n",
              "          }\n",
              "        }\n",
              "      }\n",
              "      const blob = new Blob(buffers, {type: 'application/binary'});\n",
              "      const a = document.createElement('a');\n",
              "      a.href = window.URL.createObjectURL(blob);\n",
              "      a.download = filename;\n",
              "      div.appendChild(a);\n",
              "      a.click();\n",
              "      div.remove();\n",
              "    }\n",
              "  "
            ]
          },
          "metadata": {}
        },
        {
          "output_type": "display_data",
          "data": {
            "text/plain": [
              "<IPython.core.display.Javascript object>"
            ],
            "application/javascript": [
              "download(\"download_73b661eb-f657-4c41-8c3b-5d88c713bff4\", \"submission.csv\", 516918)"
            ]
          },
          "metadata": {}
        }
      ]
    }
  ]
}